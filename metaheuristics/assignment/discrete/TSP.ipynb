{
 "cells": [
  {
   "cell_type": "code",
   "execution_count": 1,
   "metadata": {},
   "outputs": [],
   "source": [
    "import ctypes\n",
    "import os\n",
    "import sys\n",
    "import pygmo as pg\n",
    "from pygmo import *\n",
    "import numpy as np\n",
    "import sys  \n",
    "import tsplib95\n",
    "from numba import njit\n",
    "import datetime\n",
    "import matplotlib.pyplot as plt"
   ]
  },
  {
   "cell_type": "markdown",
   "metadata": {},
   "source": [
    "# Travelling Salesman Problem\n",
    "Well Known combinatorial optmization travelling salesman problem. We downloaded the tsp data dj38.tsp and qa194.tsp files from http://www.math.uwaterloo.ca/tsp/world/countries.html.\n",
    "\n",
    "The objective was to optimize the path travelled by a salesman spanning 38 cities in case of djibouti and 194 in case of Qatar.\n",
    "\n",
    "This is a combinatorial optimization problem and hence genetic algorithms are best suited for this problem. We used *Simple Genetic Algorithm* of PyGMO library. We created a population of random numbers between 0 and 1. Inside the objective function these numbers were then sorted using numpy argsort algorithm which gave the indices of numbers in asceding order. e.g. for X having \n",
    "\n",
    "1.56,1.78,3.4,1.9,1.2\n",
    "\n",
    "Argsort returned 4,0,1,3,2. Each of these indices were the vertex of cities. The order of these vertex gave the order of travelling of the cities.\n",
    "\n",
    "## Choice of parameters\n",
    "\n",
    "### Generation\n",
    "We used 5000 generations for solving the TSP of Djibouti. It gave us the most optimal solution for this problem. \n",
    "We used 25000 generation for Qatar TSP problem as it contained 194 cities thus requiring more processing.\n",
    "### Mutation probability\n",
    "In case of Djibouti the mutation probability is set to 0.06 so as to drive exploration. In case of Qatar we use lower value of mutation probability to ensure that good solution are not distorted too much.\n",
    "### Selection Strategy\n",
    "We use 'Tournament' as the selection strategy to introduce stochasticity or exploration in the algorithm\n",
    "### Mutation Strategy\n",
    "We use 'Uniform' as the mutation strategy so that all the individuals make movement towards the best individual. This is similar to Particle Swarm Oprimization social component.\n",
    "### Crossover strategy\n",
    "We use 'exponential'crossover strategy to ensure initial exploration and later exploitation\n",
    "### Stopping criteria\n",
    "We used 500,000 FES as the stopping criteria for Djibouti and 2.5 million FES for Qatar.\n",
    "## Results\n",
    "We ran the simple genetic algorithm of PyGMO on Djibouti and Qatar data. For Djibouti we got a perfect score of 6656 which was the most optimal path. For Qatar which has 194 cities we were able to get close to 11,000 as the distance which was slightly away from the least distance of 9352.\n",
    "\n",
    "The output of the algorithms is shown below for both Djbouti and Qatar. The output also contains the fitness vs FES graph.\n",
    "\n",
    "## C++ performance improvement\n",
    "PyGMO python library sits on top of pagmo C++ library. To get significant performance gains in the time taken to run the optimization algorithm we use numba library njit. It is applied to the fitness function to minimize its execution time. We used numpy arrays to storing weights of the cities edges so that njit can run on it. The gains were massive and as large as 50 times in case of Qatar data.\n",
    "\n",
    "## Parallel Architecture\n",
    "We used simple single processing architecture initally. It was time consuming but gave out logs with details, which helped in fine tuning the parameters. Later on we switched to use an archipelago of islands to parallelize the algorithm execution and thereby speed up the computation especially for high dimensional problems like Qatar 194 cities problem. We obtained significant performance gains using the parallel archipelago based architecture. "
   ]
  },
  {
   "cell_type": "code",
   "execution_count": 2,
   "metadata": {},
   "outputs": [],
   "source": [
    "# Problem class of Travelling Salesman Problem for running PyGMO algortihms on it.\n",
    "class TSP:\n",
    "    def __init__(self, dim, filename):\n",
    "        self.dim = dim\n",
    "        self.upper = np.zeros([self.dim])\n",
    "        self.lower = np.zeros([self.dim])\n",
    "        # Get double numbers in the range of 0 to 1\n",
    "        for i in range(self.dim):\n",
    "            self.upper[i] = 1\n",
    "            self.lower[i] = 0\n",
    "        problem = tsplib95.load(filename)\n",
    "        rows, cols = (self.dim,self.dim)\n",
    "        self.weight_matrix = np.zeros((self.dim,self.dim,),dtype=float)\n",
    "        # fill the weights in  weight_matrix which is a numpy 2D array to be used for 'No Python execution'\n",
    "        for i in range(self.dim):\n",
    "            for j in range(self.dim):\n",
    "                edge = i+1,j+1 \n",
    "                self.weight_matrix[i,j] = problem.get_weight(*edge)\n",
    "    # njit for No python C++ execution for performance gains\n",
    "    @njit\n",
    "    def fitness_fast(dim,weight_mat,x):\n",
    "        distance = 0.0\n",
    "        # Arg sort the array of double numbers so that we get the indices of numbers in X sorted in ascending order\n",
    "        indices_arr = np.argsort(x)\n",
    "        for k in range(dim-1):\n",
    "            weight = weight_mat[indices_arr[k],indices_arr[k+1]]\n",
    "            distance = distance + weight\n",
    "        # get the weight of the last edge connecting last vertex with starting vertex, which completes the Hamiltonian cycle\n",
    "        weight = weight_mat[indices_arr[k+1],indices_arr[0]]\n",
    "        distance = distance + weight\n",
    "        return distance\n",
    "    def fitness(self, x):\n",
    "        retval = np.zeros((1,),dtype=float)\n",
    "        retval[0]  = TSP.fitness_fast(self.dim,self.weight_matrix,x)\n",
    "        return retval\n",
    "    def get_bounds(self):\n",
    "        return (self.lower,self.upper)\n",
    "    def get_name(self):\n",
    "        return \"Travelling Salesman Problem\"\n",
    "    def get_extra_info(self):\n",
    "        return \"\\tDimensions: \" + str(self.dim)"
   ]
  },
  {
   "cell_type": "code",
   "execution_count": 3,
   "metadata": {},
   "outputs": [],
   "source": [
    "# Function for running the algorithm WITHOUT the parallel architecture of Archipelago\n",
    "def evaluate_TSP_Using_Default(dim, filename, num_gen, population_size, mutprob, optima ):\n",
    "    prob = pg.problem(TSP(dim,filename))\n",
    "    print(prob) \n",
    "    logs = []\n",
    "    champion = []\n",
    "    fitness_value = []\n",
    "    generations = []\n",
    "    Bestchamp = 0\n",
    "    uda = sga(gen = num_gen, cr = 0.9, eta_c = 1.0, m = mutprob, param_m = 1.0, param_s = 2, crossover = 'exponential', mutation = 'uniform', selection = 'tournament')    \n",
    "    start_time = datetime.datetime.now()\n",
    "    for i in range(25):    \n",
    "        algo = pg.algorithm(uda)\n",
    "        algo.set_verbosity(100)\n",
    "        pop = pg.population(prob, population_size)\n",
    "        pop = algo.evolve(pop)\n",
    "        if(pop.get_f()[pop.best_idx()][0] < Bestchamp):\n",
    "            Bestchamp = pop.get_f()[pop.best_idx()][0]\n",
    "            logs = algo.extract(type(uda)).get_log()\n",
    "        champion.append( pop.get_f()[pop.best_idx()][0])\n",
    "    \n",
    "    for i in range(len(logs)):\n",
    "        fitness_value.append(logs[i][2])\n",
    "        generations.append(logs[i][1])\n",
    "    \n",
    "    plt.plot(generations, fitness_value) \n",
    "    # naming the x axis \n",
    "    plt.xlabel('Function Evals') \n",
    "    # naming the y axis \n",
    "    plt.ylabel('Fitness Value') \n",
    "    plt.show() \n",
    "    \n",
    "    end_time = datetime.datetime.now()\n",
    "    span = end_time-start_time\n",
    "    champions = np.sort(champion)\n",
    "    print(\"Best minimas of each run:\")\n",
    "    print(champions)\n",
    "    print('Best loss:' + str(champions[0]-optima))\n",
    "    print(\" \".join([\"Time span:\",str(span.total_seconds())]))"
   ]
  },
  {
   "cell_type": "code",
   "execution_count": 4,
   "metadata": {},
   "outputs": [],
   "source": [
    "# Function for running the algorithm with the parallel architecture of Archipelago\n",
    "def evaluate_Problem_Using_Parallel_Architecture(dim, filename, num_gen, population_size, mutprob, optima):\n",
    "    prob = pg.problem(TSP(dim,filename))\n",
    "    print(prob)\n",
    "    logs = []\n",
    "    fitness_value = []\n",
    "    generations = []\n",
    "    # Setting bestchampion to large value\n",
    "    Bestchamp = 1000000\n",
    "    uda = sga(gen = num_gen, cr = 0.9, eta_c = 1.0, m = mutprob, param_m = 1.0, param_s = 2, crossover = 'exponential', mutation = 'uniform', selection = 'tournament')    \n",
    "    algo = pg.algorithm(uda)\n",
    "    algo.set_verbosity(100)\n",
    "    archi = pg.archipelago(n=25,algo=algo, prob=prob, pop_size=population_size)\n",
    "    start_time = datetime.datetime.now()\n",
    "    archi.evolve() \n",
    "    archi.wait()\n",
    "    print(algo.extract(type(uda)).get_log())        \n",
    "    for i, island in enumerate(archi): # iterate through islands\n",
    "        algois = island.get_algorithm()      # get algorithm from island\n",
    "        popis = island.get_population()\n",
    "        if(popis.get_f()[popis.best_idx()][0] < Bestchamp):\n",
    "            Bestchamp = popis.get_f()[popis.best_idx()][0]\n",
    "            logs = algois.extract(type(uda)).get_log()\n",
    "        \n",
    "    for i in range(len(logs)):\n",
    "        fitness_value.append(logs[i][2])\n",
    "        generations.append(logs[i][1])\n",
    "    end_time = datetime.datetime.now()\n",
    "    span = end_time-start_time\n",
    "    plt.plot(generations, fitness_value) \n",
    "    # naming the x axis \n",
    "    plt.xlabel('Function Evals') \n",
    "    # naming the y axis \n",
    "    plt.ylabel('Fitness Value') \n",
    "    plt.show() \n",
    "    \n",
    "    champions = np.sort(np.concatenate(archi.get_champions_f(), axis=0))\n",
    "    print(\"Best minimas of each run:\")\n",
    "    print(champions)\n",
    "    print('Best loss:' + str(champions[0]-optima))\n",
    "    print(\" \".join([\"Time span:\",str(span.total_seconds())]))"
   ]
  },
  {
   "cell_type": "code",
   "execution_count": 5,
   "metadata": {
    "scrolled": true
   },
   "outputs": [
    {
     "name": "stdout",
     "output_type": "stream",
     "text": [
      "Problem name: Travelling Salesman Problem\n",
      "\tC++ class name: pybind11::object\n",
      "\n",
      "\tGlobal dimension:\t\t\t38\n",
      "\tInteger dimension:\t\t\t0\n",
      "\tFitness dimension:\t\t\t1\n",
      "\tNumber of objectives:\t\t\t1\n",
      "\tEquality constraints dimension:\t\t0\n",
      "\tInequality constraints dimension:\t0\n",
      "\tLower bounds: [0, 0, 0, 0, 0, ... ]\n",
      "\tUpper bounds: [1, 1, 1, 1, 1, ... ]\n",
      "\tHas batch fitness evaluation: false\n",
      "\n",
      "\tHas gradient: false\n",
      "\tUser implemented gradient sparsity: false\n",
      "\tHas hessians: false\n",
      "\tUser implemented hessians sparsity: false\n",
      "\n",
      "\tFitness evaluations: 0\n",
      "\n",
      "\tThread safety: none\n",
      "\n",
      "Extra info:\n",
      "\tDimensions: 38\n",
      "[]\n"
     ]
    },
    {
     "data": {
      "image/png": "[encoded data removed]",
      "text/plain": [
       "<Figure size 432x288 with 1 Axes>"
      ]
     },
     "metadata": {
      "needs_background": "light"
     },
     "output_type": "display_data"
    },
    {
     "name": "stdout",
     "output_type": "stream",
     "text": [
      "Best minimas of each run:\n",
      "[6656. 6656. 6701. 6701. 6808. 6891. 7025. 7075. 7075. 7116. 7159. 7279.\n",
      " 7360. 7446. 7526. 7540. 7549. 7634. 7654. 7677. 7710. 7810. 8032. 8038.\n",
      " 8115.]\n",
      "Best loss:0.0\n",
      "Time span: 26.648189\n"
     ]
    }
   ],
   "source": [
    "# Run the algorithm for Djibouti data with 5000 generaions, 100 population size, and a mutation probality of 0.06\n",
    "evaluate_Problem_Using_Parallel_Architecture(38,'./dj38.tsp', 5000, 100, 0.06, 6656)"
   ]
  },
  {
   "cell_type": "code",
   "execution_count": 6,
   "metadata": {
    "scrolled": true
   },
   "outputs": [
    {
     "name": "stdout",
     "output_type": "stream",
     "text": [
      "Problem name: Travelling Salesman Problem\n",
      "\tC++ class name: pybind11::object\n",
      "\n",
      "\tGlobal dimension:\t\t\t194\n",
      "\tInteger dimension:\t\t\t0\n",
      "\tFitness dimension:\t\t\t1\n",
      "\tNumber of objectives:\t\t\t1\n",
      "\tEquality constraints dimension:\t\t0\n",
      "\tInequality constraints dimension:\t0\n",
      "\tLower bounds: [0, 0, 0, 0, 0, ... ]\n",
      "\tUpper bounds: [1, 1, 1, 1, 1, ... ]\n",
      "\tHas batch fitness evaluation: false\n",
      "\n",
      "\tHas gradient: false\n",
      "\tUser implemented gradient sparsity: false\n",
      "\tHas hessians: false\n",
      "\tUser implemented hessians sparsity: false\n",
      "\n",
      "\tFitness evaluations: 0\n",
      "\n",
      "\tThread safety: none\n",
      "\n",
      "Extra info:\n",
      "\tDimensions: 194\n",
      "[]\n"
     ]
    },
    {
     "data": {
      "image/png": "[encoded data removed]",
      "text/plain": [
       "<Figure size 432x288 with 1 Axes>"
      ]
     },
     "metadata": {
      "needs_background": "light"
     },
     "output_type": "display_data"
    },
    {
     "name": "stdout",
     "output_type": "stream",
     "text": [
      "Best minimas of each run:\n",
      "[12216. 13115. 13370. 13388. 13605. 13719. 13732. 13752. 13850. 14099.\n",
      " 14104. 14180. 14275. 14513. 14698. 14868. 14943. 15024. 15133. 15285.\n",
      " 15476. 15514. 15731. 16045. 16513.]\n",
      "Best loss:2864.0\n",
      "Time span: 355.431719\n"
     ]
    }
   ],
   "source": [
    "# Run the algorithm for Qatar data with 25000 generaions, 100 population size, and a mutation probality of 0.01\n",
    "evaluate_Problem_Using_Parallel_Architecture(194,'./qa194.tsp', 25000, 100, 0.01, 9352)"
   ]
  }
 ],
 "metadata": {
  "kernelspec": {
   "display_name": "Python 3",
   "language": "python",
   "name": "python3"
  },
  "language_info": {
   "codemirror_mode": {
    "name": "ipython",
    "version": 3
   },
   "file_extension": ".py",
   "mimetype": "text/x-python",
   "name": "python",
   "nbconvert_exporter": "python",
   "pygments_lexer": "ipython3",
   "version": "3.7.8"
  }
 },
 "nbformat": 4,
 "nbformat_minor": 2
}
