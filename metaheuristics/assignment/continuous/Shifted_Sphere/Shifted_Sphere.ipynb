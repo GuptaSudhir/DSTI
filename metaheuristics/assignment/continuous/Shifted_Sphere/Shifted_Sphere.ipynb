{
 "cells": [
  {
   "cell_type": "code",
   "execution_count": 12,
   "metadata": {},
   "outputs": [],
   "source": [
    "import ctypes\n",
    "import os\n",
    "import sys\n",
    "import pygmo as pg\n",
    "from pygmo import *\n",
    "import numpy as np\n",
    "import sys  \n",
    "sys.path.insert(11, '../cec08/')\n",
    "import data\n",
    "from data import sphere, f_bias\n"
   ]
  },
  {
   "cell_type": "code",
   "execution_count": 13,
   "metadata": {},
   "outputs": [],
   "source": [
    "import numpy as np\n",
    "from numba import njit\n",
    "\n",
    "class Shifted_Sphere:\n",
    "    def __init__(self, dim):\n",
    "        self.dim = dim\n",
    "        self.upper = np.zeros([self.dim])\n",
    "        self.lower = np.zeros([self.dim])\n",
    "        for i in range(self.dim):\n",
    "            self.upper[i] = 100\n",
    "            self.lower[i] = -100\n",
    "    # No python C++ execution for performance gains\n",
    "    @njit\n",
    "    def fitness_fast(x,sphere,dim):\n",
    "        retval = 0.0\n",
    "        for i in range(dim):\n",
    "            z = x[i]-sphere[i]\n",
    "            retval += z*z\n",
    "        return retval\n",
    "    def fitness(self, x):\n",
    "        retval = np.zeros((1,),dtype=float)\n",
    "        retval[0]  = Shifted_Sphere.fitness_fast(x,sphere,self.dim) +  f_bias[0]\n",
    "        return retval\n",
    "    def get_bounds(self):\n",
    "        return (self.lower,self.upper)\n",
    "    def get_name(self):\n",
    "        return \"Shifted Sphere CEC08\"\n",
    "    def get_extra_info(self):\n",
    "        return \"\\tDimensions: \" + str(self.dim)"
   ]
  }
 ],
 "metadata": {
  "kernelspec": {
   "display_name": "Python 3",
   "language": "python",
   "name": "python3"
  },
  "language_info": {
   "codemirror_mode": {
    "name": "ipython",
    "version": 3
   },
   "file_extension": ".py",
   "mimetype": "text/x-python",
   "name": "python",
   "nbconvert_exporter": "python",
   "pygments_lexer": "ipython3",
   "version": "3.7.8"
  }
 },
 "nbformat": 4,
 "nbformat_minor": 2
}
