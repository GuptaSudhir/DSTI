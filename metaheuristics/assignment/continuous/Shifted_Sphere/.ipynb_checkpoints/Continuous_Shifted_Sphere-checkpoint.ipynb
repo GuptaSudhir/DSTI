{
 "cells": [
  {
   "cell_type": "code",
   "execution_count": 1,
   "metadata": {},
   "outputs": [],
   "source": [
    "import ctypes\n",
    "import os\n",
    "import sys\n",
    "import pygmo as pg\n",
    "from pygmo import *\n",
    "import numpy as np\n",
    "import sys  \n",
    "sys.path.insert(0, '../cec08/')\n",
    "import data\n",
    "from data import sphere, f_bias\n"
   ]
  },
  {
   "cell_type": "code",
   "execution_count": 2,
   "metadata": {},
   "outputs": [],
   "source": [
    "from numba import jit, float64\n",
    "import numpy as np\n",
    "from numba import njit\n",
    "\n",
    "class Shifted_sphere:\n",
    "    def __init__(self, dim):\n",
    "        self.dim = dim\n",
    "        self.upper = np.zeros([self.dim])\n",
    "        self.lower = np.zeros([self.dim])\n",
    "        for i in range(self.dim-1):\n",
    "            self.upper[i] = 100\n",
    "            self.lower[i] = -100\n",
    "    \n",
    "    @njit\n",
    "    def fitness_fast(x,sphere):\n",
    "        retval = 0.0\n",
    "        tmp = 0.0\n",
    "        for i in range(len(x) - 1):\n",
    "            tmp = x[i]-sphere[i]\n",
    "            retval +=  tmp*tmp\n",
    "        return retval\n",
    "    \n",
    "    def fitness(self, x):\n",
    "        retval = np.zeros((1,),dtype=float)\n",
    "        retval[0]  = Shifted_sphere.fitness_fast(x,sphere) +  f_bias[0]\n",
    "        return retval\n",
    "    def get_bounds(self):\n",
    "        return (self.lower,self.upper)\n",
    "    def get_name(self):\n",
    "        return \"Shifted Sphere Function\"\n",
    "    def get_extra_info(self):\n",
    "        return \"\\tDimensions: \" + str(self.dim)"
   ]
  },
  {
   "cell_type": "code",
   "execution_count": 3,
   "metadata": {
    "scrolled": true
   },
   "outputs": [
    {
     "name": "stdout",
     "output_type": "stream",
     "text": [
      "Problem name: Shifted Sphere Function\n",
      "\tC++ class name: pybind11::object\n",
      "\n",
      "\tGlobal dimension:\t\t\t50\n",
      "\tInteger dimension:\t\t\t0\n",
      "\tFitness dimension:\t\t\t1\n",
      "\tNumber of objectives:\t\t\t1\n",
      "\tEquality constraints dimension:\t\t0\n",
      "\tInequality constraints dimension:\t0\n",
      "\tLower bounds: [-100, -100, -100, -100, -100, ... ]\n",
      "\tUpper bounds: [100, 100, 100, 100, 100, ... ]\n",
      "\tHas batch fitness evaluation: false\n",
      "\n",
      "\tHas gradient: false\n",
      "\tUser implemented gradient sparsity: false\n",
      "\tHas hessians: false\n",
      "\tUser implemented hessians sparsity: false\n",
      "\n",
      "\tFitness evaluations: 0\n",
      "\n",
      "\tThread safety: none\n",
      "\n",
      "Extra info:\n",
      "\tDimensions: 50\n",
      "[array([-450.]), array([-450.]), array([-450.]), array([-450.]), array([-450.]), array([-450.]), array([-450.]), array([9067.34142695]), array([-450.]), array([-450.]), array([-450.]), array([-450.]), array([-450.]), array([-450.]), array([-450.]), array([-450.]), array([-450.]), array([-450.]), array([-450.]), array([-450.]), array([-450.]), array([-450.]), array([-450.]), array([-450.]), array([-442.4371475])]\n",
      "Time span:\n",
      "18.593533\n"
     ]
    }
   ],
   "source": [
    "import datetime\n",
    "prob = pg.problem(Shifted_sphere(500))\n",
    "#print(prob) \n",
    "logs = []\n",
    "start_time = datetime.datetime.now()\n",
    "\n",
    "#for i in range(25):\n",
    "uda = pg.pso(gen=25000, omega=0.7298, eta1=1.87, eta2=2.05, max_vel=0.3, variant=5, neighb_type=1, neighb_param=4, memory=True)\n",
    "#    uda = pg.de(gen=5000)\n",
    "algo = pg.algorithm(uda)\n",
    "algo.set_verbosity(1000)\n",
    "bfe = pg.bfe(pg.thread_bfe())\n",
    "#pop = pg.population(prob,50)\n",
    "#prob.c_tol = [1e-4, 1e-4]\n",
    "archi = pg.archipelago(n=25,algo=algo, prob=prob, pop_size=100)\n",
    "archi.evolve() \n",
    "archi.wait()\n",
    "print(archi.get_champions_f())\n",
    "#pop = algo.evolve(pop)\n",
    "logs.append(algo.extract(type(uda)).get_log())\n",
    "#print(pop.get_f()[pop.best_idx()]) \n",
    "end_time = datetime.datetime.now()\n",
    "\n",
    "# plt.plot(avg_log[:,1],avg_log[:,2]-418.9829*20 , label=algo.get_name())\n",
    "span = end_time-start_time\n",
    "print(\"Time span:\")\n",
    "print(str(span.total_seconds()))\n"
   ]
  },
  {
   "cell_type": "code",
   "execution_count": 4,
   "metadata": {},
   "outputs": [
    {
     "data": {
      "text/plain": [
       "[[]]"
      ]
     },
     "execution_count": 4,
     "metadata": {},
     "output_type": "execute_result"
    }
   ],
   "source": [
    "#logs"
   ]
  },
  {
   "cell_type": "code",
   "execution_count": 5,
   "metadata": {},
   "outputs": [
    {
     "ename": "ZeroDivisionError",
     "evalue": "division by zero",
     "output_type": "error",
     "traceback": [
      "\u001b[0;31m---------------------------------------------------------------------------\u001b[0m",
      "\u001b[0;31mZeroDivisionError\u001b[0m                         Traceback (most recent call last)",
      "\u001b[0;32m<ipython-input-5-44d09cb4eced>\u001b[0m in \u001b[0;36m<module>\u001b[0;34m\u001b[0m\n\u001b[1;32m      7\u001b[0m \u001b[0;31m# plt.plot(avg_log[:,1],avg_log[:,2] , label=algo.get_name())\u001b[0m\u001b[0;34m\u001b[0m\u001b[0;34m\u001b[0m\u001b[0;34m\u001b[0m\u001b[0m\n\u001b[1;32m      8\u001b[0m \u001b[0mlogs_b\u001b[0m \u001b[0;34m=\u001b[0m \u001b[0mnp\u001b[0m\u001b[0;34m.\u001b[0m\u001b[0marray\u001b[0m\u001b[0;34m(\u001b[0m\u001b[0mlogs\u001b[0m\u001b[0;34m)\u001b[0m\u001b[0;34m\u001b[0m\u001b[0;34m\u001b[0m\u001b[0m\n\u001b[0;32m----> 9\u001b[0;31m \u001b[0mavg_log\u001b[0m \u001b[0;34m=\u001b[0m \u001b[0mnp\u001b[0m\u001b[0;34m.\u001b[0m\u001b[0maverage\u001b[0m\u001b[0;34m(\u001b[0m\u001b[0mlogs_b\u001b[0m\u001b[0;34m,\u001b[0m\u001b[0;36m0\u001b[0m\u001b[0;34m)\u001b[0m\u001b[0;34m\u001b[0m\u001b[0;34m\u001b[0m\u001b[0m\n\u001b[0m\u001b[1;32m     10\u001b[0m \u001b[0mplt\u001b[0m\u001b[0;34m.\u001b[0m\u001b[0mplot\u001b[0m\u001b[0;34m(\u001b[0m\u001b[0mavg_log\u001b[0m\u001b[0;34m[\u001b[0m\u001b[0;34m:\u001b[0m\u001b[0;34m,\u001b[0m\u001b[0;36m1\u001b[0m\u001b[0;34m]\u001b[0m\u001b[0;34m,\u001b[0m\u001b[0mavg_log\u001b[0m\u001b[0;34m[\u001b[0m\u001b[0;34m:\u001b[0m\u001b[0;34m,\u001b[0m\u001b[0;36m2\u001b[0m\u001b[0;34m]\u001b[0m \u001b[0;34m,\u001b[0m \u001b[0mlabel\u001b[0m\u001b[0;34m=\u001b[0m\u001b[0malgo\u001b[0m\u001b[0;34m.\u001b[0m\u001b[0mget_name\u001b[0m\u001b[0;34m(\u001b[0m\u001b[0;34m)\u001b[0m\u001b[0;34m)\u001b[0m\u001b[0;34m\u001b[0m\u001b[0;34m\u001b[0m\u001b[0m\n",
      "\u001b[0;32m<__array_function__ internals>\u001b[0m in \u001b[0;36maverage\u001b[0;34m(*args, **kwargs)\u001b[0m\n",
      "\u001b[0;32m~/opt/anaconda3/envs/metaheuristics_sudhir-env-py37/lib/python3.7/site-packages/numpy/lib/function_base.py\u001b[0m in \u001b[0;36maverage\u001b[0;34m(a, axis, weights, returned)\u001b[0m\n\u001b[1;32m    379\u001b[0m     \u001b[0;32mif\u001b[0m \u001b[0mweights\u001b[0m \u001b[0;32mis\u001b[0m \u001b[0;32mNone\u001b[0m\u001b[0;34m:\u001b[0m\u001b[0;34m\u001b[0m\u001b[0;34m\u001b[0m\u001b[0m\n\u001b[1;32m    380\u001b[0m         \u001b[0mavg\u001b[0m \u001b[0;34m=\u001b[0m \u001b[0ma\u001b[0m\u001b[0;34m.\u001b[0m\u001b[0mmean\u001b[0m\u001b[0;34m(\u001b[0m\u001b[0maxis\u001b[0m\u001b[0;34m)\u001b[0m\u001b[0;34m\u001b[0m\u001b[0;34m\u001b[0m\u001b[0m\n\u001b[0;32m--> 381\u001b[0;31m         \u001b[0mscl\u001b[0m \u001b[0;34m=\u001b[0m \u001b[0mavg\u001b[0m\u001b[0;34m.\u001b[0m\u001b[0mdtype\u001b[0m\u001b[0;34m.\u001b[0m\u001b[0mtype\u001b[0m\u001b[0;34m(\u001b[0m\u001b[0ma\u001b[0m\u001b[0;34m.\u001b[0m\u001b[0msize\u001b[0m\u001b[0;34m/\u001b[0m\u001b[0mavg\u001b[0m\u001b[0;34m.\u001b[0m\u001b[0msize\u001b[0m\u001b[0;34m)\u001b[0m\u001b[0;34m\u001b[0m\u001b[0;34m\u001b[0m\u001b[0m\n\u001b[0m\u001b[1;32m    382\u001b[0m     \u001b[0;32melse\u001b[0m\u001b[0;34m:\u001b[0m\u001b[0;34m\u001b[0m\u001b[0;34m\u001b[0m\u001b[0m\n\u001b[1;32m    383\u001b[0m         \u001b[0mwgt\u001b[0m \u001b[0;34m=\u001b[0m \u001b[0mnp\u001b[0m\u001b[0;34m.\u001b[0m\u001b[0masanyarray\u001b[0m\u001b[0;34m(\u001b[0m\u001b[0mweights\u001b[0m\u001b[0;34m)\u001b[0m\u001b[0;34m\u001b[0m\u001b[0;34m\u001b[0m\u001b[0m\n",
      "\u001b[0;31mZeroDivisionError\u001b[0m: division by zero"
     ]
    }
   ],
   "source": [
    "import matplotlib\n",
    "import matplotlib.pyplot as plt \n",
    "# logs_b = np.array(logs)\n",
    "# avg_log = np.average(logs_b,0)\n",
    "\n",
    "# #plot_non_dominated_fronts(avg_log[:3]) \n",
    "# plt.plot(avg_log[:,1],avg_log[:,2] , label=algo.get_name())\n",
    "#logs_b = np.array(logs)\n",
    "#avg_log = np.average(logs_b,0)\n",
    "#plt.plot(avg_log[:,1],avg_log[:,2] , label=algo.get_name())\n"
   ]
  },
  {
   "cell_type": "code",
   "execution_count": null,
   "metadata": {},
   "outputs": [],
   "source": [
    "#avg_log"
   ]
  }
 ],
 "metadata": {
  "kernelspec": {
   "display_name": "Python 3",
   "language": "python",
   "name": "python3"
  },
  "language_info": {
   "codemirror_mode": {
    "name": "ipython",
    "version": 3
   },
   "file_extension": ".py",
   "mimetype": "text/x-python",
   "name": "python",
   "nbconvert_exporter": "python",
   "pygments_lexer": "ipython3",
   "version": "3.7.8"
  }
 },
 "nbformat": 4,
 "nbformat_minor": 2
}
