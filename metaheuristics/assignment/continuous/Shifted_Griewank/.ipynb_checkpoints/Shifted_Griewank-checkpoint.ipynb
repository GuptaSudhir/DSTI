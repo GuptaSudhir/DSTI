{
 "cells": [
  {
   "cell_type": "code",
   "execution_count": null,
   "metadata": {},
   "outputs": [],
   "source": [
    "import ctypes\n",
    "import os\n",
    "import sys\n",
    "import pygmo as pg\n",
    "from pygmo import *\n",
    "import numpy as np\n",
    "import sys  \n",
    "sys.path.insert(13, '../cec08/')\n",
    "import data\n",
    "from data import griewank, f_bias\n"
   ]
  },
  {
   "cell_type": "code",
   "execution_count": null,
   "metadata": {},
   "outputs": [],
   "source": [
    "import numpy as np\n",
    "from numba import njit\n",
    "\n",
    "class Shifted_Griewank:\n",
    "    def __init__(self, dim):\n",
    "        self.dim = dim\n",
    "        self.upper = np.zeros([self.dim])\n",
    "        self.lower = np.zeros([self.dim])\n",
    "        for i in range(self.dim):\n",
    "            self.upper[i] = 600\n",
    "            self.lower[i] = -600\n",
    "    # No python C++ execution for performance gains\n",
    "    @njit\n",
    "    def fitness_fast(x,griewank,dim):\n",
    "        F1=0\n",
    "        F2 = 1\n",
    "        for i in range(dim):\n",
    "            z = x[i] - griewank[i]\n",
    "            F1 += np.power(z,2) / 4000 \n",
    "            F2 *= np.cos(z/np.sqrt(i+1))\n",
    "        return (F1 - F2 + 1)\n",
    "    def fitness(self, x):\n",
    "        retval = np.zeros((1,),dtype=float)\n",
    "        retval[0] = Shifted_Griewank.fitness_fast(x,griewank,self.dim) + f_bias[4]\n",
    "        return retval\n",
    "    def get_bounds(self):\n",
    "        return (self.lower,self.upper)\n",
    "    def get_name(self):\n",
    "        return \"Shifted Griewank CEC08\"\n",
    "    def get_extra_info(self):\n",
    "        return \"\\tDimensions: \" + str(self.dim)"
   ]
  }
 ],
 "metadata": {
  "kernelspec": {
   "display_name": "Python 3",
   "language": "python",
   "name": "python3"
  },
  "language_info": {
   "codemirror_mode": {
    "name": "ipython",
    "version": 3
   },
   "file_extension": ".py",
   "mimetype": "text/x-python",
   "name": "python",
   "nbconvert_exporter": "python",
   "pygments_lexer": "ipython3",
   "version": "3.7.8"
  }
 },
 "nbformat": 4,
 "nbformat_minor": 2
}
