{
 "cells": [
  {
   "cell_type": "code",
   "execution_count": 1,
   "metadata": {},
   "outputs": [],
   "source": [
    "import ctypes\n",
    "import os\n",
    "import sys\n",
    "import pygmo as pg\n",
    "from pygmo import *\n",
    "import numpy as np\n",
    "import sys  \n",
    "sys.path.insert(0, 'Schwefel_Problem/')\n",
    "sys.path.insert(1, 'Shifted_Ackley/')\n",
    "sys.path.insert(2, 'Shifted_Griewank/')\n",
    "sys.path.insert(3, 'Shifted_Rastrigin/')\n",
    "sys.path.insert(4, 'Shifted_Rosenbrock/')\n",
    "sys.path.insert(5, 'Shifted_Sphere/')\n",
    "sys.path.insert(6, 'cec08/')\n",
    "import importnb"
   ]
  },
  {
   "cell_type": "markdown",
   "metadata": {},
   "source": [
    "## Algorithm Used\n",
    "\n",
    "All the six problems are single objective optimization problems. First two problems are unimodal and the rest are all multimodal. We are optimizing all of them for 50 and 500 dimensions which makes all of them high dimensional optimization problems. All the problems are continuous optimization problems. Four out of the six problems are multi-modal which means that we need to employ global search algorithms for finding their global optima. Further, we will need stochastic algorithms or metaheuristic algorithms for solving these multi-modal global optimization problems. All these characteristics make them suitable for metaheuristics population based algorithms like **Particle Swarm Optimization**. PSO swarm tries to emulate the success of neighbouring particles and their own. The collective behaviour helps in discovering optimal regions of a high dimensional space. It is therefore well suited for these problems.   \n",
    "\n",
    "\n",
    "## Parameters\n",
    "\n",
    "**eta1** is the cognitive component impacting the particle velocity. It reflects how much confidence the particle has in itself. It also reflects the exploitation component of the particle velocity. This component helps in finding the optima.\n",
    "\n",
    "**eta2** is the social component impacting the particle velocity. It determines how a particle is affected by its neighbours or other particles in the swarm. It also reflects the exploration component of the particle velocity. This component allows the search to escape local optima and reach a global minima. It increaes the diversity of solution. \n",
    "\n",
    "**neighb_type** defines the swarm topology which in this case has been set to star topology resulting in a gbest algorithm i.e. the global best position of the swarm is used by each particle as the social best.\n",
    "\n",
    "**variant** used in this problem is 'canonical with constriction factor'. This variant is used to balance the exploration and exploitation tradeoff. With constriction coefficient in range of [0,1] velocity is reduced at each time step. \n",
    "\n",
    "**omega** is the constriction factor used in this variant. It reflects the inertia of of the particle.\n",
    "\n",
    "**memory** parameter is used to control whether the best positions of all particles from the current iteration is used or from personal best positions of all particles over all iterations.\n",
    "\n",
    "**max velocity** This is maximum velocity coefficient for the box-bounds width in [0,1]\n",
    "\n",
    "\n",
    "## Parallel Execution Architecture\n",
    "We used simple single processing architecture initally. It was time consuming but gave out logs with details, which helped in fine tuning the parameters. Later on we switched to use an archipelago of islands to parallelize the algorithm execution and thereby speed up the computation especially for high dimensional space with 500 dimensions. We obtained significant performance gains using the parallel archipelago based architecture. e.g. in some of the problems we reduced time consumed from roughly 50 mins to 5 minutes for n=25 runs. \n",
    "\n",
    "## No Python C++\n",
    "We also used No python C++ execution for function evaluations to get further performance gains. It was an optimization for code written in python.\n"
   ]
  },
  {
   "cell_type": "code",
   "execution_count": 2,
   "metadata": {},
   "outputs": [],
   "source": [
    "from Shifted_Sphere import Shifted_Sphere\n",
    "from Schwefel_Problem import Schwefel_Problem\n",
    "from Shifted_Ackley import Shifted_Ackley\n",
    "from Shifted_Griewank import Shifted_Griewank\n",
    "from Shifted_Rastrigin import Shifted_Rastrigin\n",
    "from Shifted_Rosenbrock import Shifted_Rosenbrock\n",
    "\n",
    "#set the architecture as parallel \n",
    "architecture = 'Parallel'\n",
    "#set neighbourhood type to gbest\n",
    "ntype = 1\n",
    "\n",
    "def Run_Shifted_Sphere(params):\n",
    "    prob = pg.problem(Shifted_Sphere(params['dim']))\n",
    "    accuracy = evaluate_Problem(prob,params['dim'], params['num_gen'], params['population_size'], params['eta1'],params['eta2'],params['max_vel'],params['omega'],-450)\n",
    "    return accuracy\n",
    "def Run_Schwefel_Problem(params):\n",
    "    prob = pg.problem(Schwefel_Problem(params['dim']))\n",
    "    accuracy = evaluate_Problem(prob, params['dim'],params['num_gen'], params['population_size'], params['eta1'],params['eta2'],params['max_vel'],params['omega'],-450)\n",
    "    return accuracy\n",
    "def Run_Ackley(params):\n",
    "    prob = pg.problem(Shifted_Ackley(params['dim']))\n",
    "    accuracy = evaluate_Problem(prob, params['dim'],params['num_gen'], params['population_size'], params['eta1'],params['eta2'],params['max_vel'],params['omega'],-140)\n",
    "    return accuracy\n",
    "def Run_Griewank(params):\n",
    "    prob = pg.problem(Shifted_Griewank(params['dim']))\n",
    "    accuracy = evaluate_Problem(prob, params['dim'],params['num_gen'], params['population_size'], params['eta1'],params['eta2'],params['max_vel'],params['omega'],-180)\n",
    "    return accuracy\n",
    "def Run_Rastrigin(params):\n",
    "    prob = pg.problem(Shifted_Rastrigin(params['dim']))\n",
    "    accuracy = evaluate_Problem(prob, params['dim'],params['num_gen'], params['population_size'], params['eta1'],params['eta2'],params['max_vel'],params['omega'],-330)\n",
    "    return accuracy\n",
    "def Run_Rosenbrock(params):\n",
    "    prob = pg.problem(Shifted_Rosenbrock(params['dim']))\n",
    "    accuracy = evaluate_Problem(prob, params['dim'],params['num_gen'], params['population_size'], params['eta1'],params['eta2'],params['max_vel'],params['omega'],390)\n",
    "    return accuracy"
   ]
  },
  {
   "cell_type": "code",
   "execution_count": 3,
   "metadata": {},
   "outputs": [],
   "source": [
    "import datetime\n",
    "import matplotlib.pyplot as plt\n",
    "def evaluate_Problem_Using_Parallel_Architecture(prob,dim, num_gen,population_size, eta1,eta2,max_vel,omega, optima):\n",
    "    print(prob)\n",
    "    logs = []\n",
    "    fitness_value = []\n",
    "    generations = []\n",
    "    Bestchamp = np.abs(optima*100)\n",
    "    uda = pg.pso(gen=num_gen, omega=omega, eta1=eta1, eta2=eta2, max_vel=max_vel, variant=5, neighb_type=ntype,neighb_param = 4, memory=True,seed=1)              \n",
    "    algo = pg.algorithm(uda)\n",
    "    algo.set_verbosity(100)\n",
    "    archi = pg.archipelago(n=25,algo=algo, prob=prob, pop_size=population_size)\n",
    "    start_time = datetime.datetime.now()\n",
    "    archi.evolve() \n",
    "    archi.wait()\n",
    "    print(algo.extract(type(uda)).get_log())        \n",
    "    for i, island in enumerate(archi): # iterate through islands\n",
    "        algois = island.get_algorithm()      # get algorithm from island\n",
    "        popis = island.get_population()\n",
    "        if(popis.get_f()[popis.best_idx()][0] < Bestchamp):\n",
    "            Bestchamp = popis.get_f()[popis.best_idx()][0]\n",
    "            logs = algois.extract(type(uda)).get_log()\n",
    "        \n",
    "    for i in range(len(logs)):\n",
    "        fitness_value.append(logs[i][2])\n",
    "        generations.append(logs[i][1])\n",
    "\n",
    "    end_time = datetime.datetime.now()\n",
    "    span = end_time-start_time\n",
    "    plt.plot(generations, fitness_value) \n",
    "    # naming the x axis \n",
    "    plt.xlabel('Function Evals') \n",
    "    # naming the y axis \n",
    "    plt.ylabel('Fitness Value') \n",
    "    plt.show() \n",
    "    \n",
    "    champions = np.sort(np.concatenate(archi.get_champions_f(), axis=0))\n",
    "    print(\"Best minimas of each run:\")\n",
    "    print(champions)\n",
    "    print(\", \".join([\"Params:\",str(dim) , str(num_gen), str(population_size), str(omega), str(eta1), str(eta2), str(max_vel), \"5\", \"1\", \"True\", \"1\"]))\n",
    "    print(\" \".join([\"Time span:\",str(span.total_seconds())]))\n",
    "    print('Best loss' + str(-(optima-champions[0])))"
   ]
  },
  {
   "cell_type": "code",
   "execution_count": 5,
   "metadata": {},
   "outputs": [],
   "source": [
    "def evaluate_Problem(prob,dim, num_gen, population_size, eta1, eta2, max_vel, omega,optima):\n",
    "    if(architecture == 'Parallel') :\n",
    "        evaluate_Problem_Using_Parallel_Architecture(prob,dim,num_gen,population_size,eta1,eta2,max_vel,omega,optima)\n",
    "    else:\n",
    "        evaluate_Problem_Without_Parallel_Architecture(prob,dim,num_gen,population_size,eta1,eta2,max_vel,omega,optima)"
   ]
  },
  {
   "cell_type": "code",
   "execution_count": 6,
   "metadata": {},
   "outputs": [],
   "source": [
    "\n",
    "def evaluate_Problem_Without_Parallel_Architecture(prob,dim, num_gen, population_size, eta1, eta2, max_vel, omega,optima):\n",
    "    print(prob) \n",
    "\n",
    "    champion = []\n",
    "    fitness_value = []\n",
    "    generations = []\n",
    "    Bestchamp = 0\n",
    "    uda = pg.pso(gen=num_gen, omega=omega, eta1=eta1, eta2=eta2, max_vel=max_vel, variant=5,  neighb_type=ntype, neighb_param = 4, memory=True,seed=1)              \n",
    "    start_time = datetime.datetime.now()\n",
    "    for i in range(25):    \n",
    "        algo = pg.algorithm(uda)\n",
    "        algo.set_verbosity(100)\n",
    "        pop = pg.population(prob,population_size)\n",
    "        pop = algo.evolve(pop)\n",
    "\n",
    "        if(pop.get_f()[pop.best_idx()][0] < Bestchamp):\n",
    "            Bestchamp = pop.get_f()[pop.best_idx()][0]\n",
    "            logs = algo.extract(type(uda)).get_log()\n",
    "        champion.append( pop.get_f()[pop.best_idx()][0])\n",
    "        \n",
    "    for i in range(len(logs)):\n",
    "        fitness_value.append(logs[i][2])\n",
    "        generations.append(logs[i][1])\n",
    "    \n",
    "    plt.plot(generations, fitness_value) \n",
    "    # naming the x axis \n",
    "    plt.xlabel('Function Evals') \n",
    "    # naming the y axis \n",
    "    plt.ylabel('Fitness Value') \n",
    "    plt.show() \n",
    "    \n",
    "    end_time = datetime.datetime.now()\n",
    "    span = end_time-start_time\n",
    "    champions = np.sort(champion)\n",
    "    print(\"Best minimas of each run:\")\n",
    "    print(champions)\n",
    "    print(\", \".join([\"Params:\",str(dim) , str(num_gen), str(population_size), str(omega), str(eta1), str(eta2), str(max_vel), \"5\", \"1\", \"True\", \"1\"]))\n",
    "    print(\" \".join([\"Time span:\",str(span.total_seconds())]))\n",
    "    print('Best loss' + str(-(optima-champions[0])))"
   ]
  },
  {
   "cell_type": "markdown",
   "metadata": {},
   "source": [
    "# Shifted Sphere\n",
    "\n",
    "Shifted Sphere is a unimodal function which means that it has a single minima which will be its local and global minima\n",
    "\n",
    "### Choice of parameters\n",
    "In case of Shifted Sphere problem a large value of cognitive component as compared to the social component will be efficient as it will lead to intensification or exploitation for each particle and pulling it towards its best position. It causes the particles to move towards the optima which is a good strategy for a unimodal problem. We are using gbest as neighbourhood type so that causes the particle to converge faster. Max velocity and inertia are both set to their default values of 0.5 and 0.7298 respectively. \n",
    "    parameters = {   \n",
    "        'eta1':2.5,\n",
    "        'eta2': 1.55,\n",
    "        'max_vel': 0.5,\n",
    "        'omega' : 0.7298,\n",
    "    }\n",
    "    \n",
    "### Results Obtained\n",
    "#### 50 dimensions\n",
    "##### Parameters\n",
    "We set 'population_size' or the swarm size to 50 which leads to reasonable results. The 'num_gen' or number of ierations is set to 5000 so that we reach the MAX_FES limit.\n",
    "##### Results\n",
    "For 50 dimensions we reached the function minimum of -450 which is the actual optima. We did 25 runs and this was the output of our best run.  \n",
    "##### Stopping Criteria\n",
    "We use execution till MAX_FES as the stopping criteria. It is set to dimensions*5000 = 250,000\n",
    "##### Time Taken\n",
    "Using parallel architecture the time taken for reaching the minimum with 250,000 FES was 5.93 seconds.\n",
    "##### Convergence Curve\n",
    "The fitness vs FES convergence curve, for champion run,  converges easily with lots of function evals left from Max_FES. Please see the output below for the graph.\n",
    "#### 500 dimensions\n",
    "##### Parameters\n",
    "We set 'population_size' to 100 and 'num_gen' to 25000\n",
    "##### Results\n",
    "For 500 dimensions we reached the function minimum of -450 which is the actual optima. There are lots of function evals left from Max_FES. We did 25 runs and this was the output of our best run.  \n",
    "##### Stopping Criteria\n",
    "We use execution till MAX_FES as the stopping criteria. It is set to dimensions*5000 = 2.5 million\n",
    "##### Time Taken\n",
    "Using parallel architecture the time taken for reaching the minimum with 2.5 million FES was 253 seconds.\n",
    "##### Convergence Curve\n",
    "The fitness vs FES convergence curve, for champion run,  converges with more function evals as compared to 50 dimensions. Please see the output below for the graph.\n"
   ]
  },
  {
   "cell_type": "code",
   "execution_count": 7,
   "metadata": {},
   "outputs": [],
   "source": [
    "params_sphere_50 ={'eta1':2.5,\n",
    "        'eta2': 1.55,\n",
    "        'max_vel': 0.5,\n",
    "        'omega' : 0.7298,\n",
    "        'dim' : 50,\n",
    "        'population_size': 50,\n",
    "        'num_gen' : 5000\n",
    "    }"
   ]
  },
  {
   "cell_type": "code",
   "execution_count": 8,
   "metadata": {},
   "outputs": [
    {
     "name": "stdout",
     "output_type": "stream",
     "text": [
      "Problem name: Shifted Sphere CEC08\n",
      "\tC++ class name: pybind11::object\n",
      "\n",
      "\tGlobal dimension:\t\t\t50\n",
      "\tInteger dimension:\t\t\t0\n",
      "\tFitness dimension:\t\t\t1\n",
      "\tNumber of objectives:\t\t\t1\n",
      "\tEquality constraints dimension:\t\t0\n",
      "\tInequality constraints dimension:\t0\n",
      "\tLower bounds: [-100, -100, -100, -100, -100, ... ]\n",
      "\tUpper bounds: [100, 100, 100, 100, 100, ... ]\n",
      "\tHas batch fitness evaluation: false\n",
      "\n",
      "\tHas gradient: false\n",
      "\tUser implemented gradient sparsity: false\n",
      "\tHas hessians: false\n",
      "\tUser implemented hessians sparsity: false\n",
      "\n",
      "\tFitness evaluations: 0\n",
      "\n",
      "\tThread safety: none\n",
      "\n",
      "Extra info:\n",
      "\tDimensions: 50\n",
      "[]\n"
     ]
    },
    {
     "data": {
      "image/png": "[encoded data removed]",
      "text/plain": [
       "<Figure size 432x288 with 1 Axes>"
      ]
     },
     "metadata": {
      "needs_background": "light"
     },
     "output_type": "display_data"
    },
    {
     "name": "stdout",
     "output_type": "stream",
     "text": [
      "Best minimas of each run:\n",
      "[-450.         -450.         -450.         -450.         -450.\n",
      " -450.         -450.         -450.         -450.         -450.\n",
      " -450.         -450.         -450.         -450.         -450.\n",
      " -450.         -450.         -450.         -450.         -450.\n",
      " -450.         -450.         -450.         -406.14714049  789.8076956 ]\n",
      "Params:, 50, 5000, 50, 0.7298, 2.5, 1.55, 0.5, 5, 1, True, 1\n",
      "Time span: 10.634893\n",
      "Best loss5.684341886080802e-14\n"
     ]
    }
   ],
   "source": [
    "Run_Shifted_Sphere(params_sphere_50)"
   ]
  },
  {
   "cell_type": "code",
   "execution_count": 9,
   "metadata": {},
   "outputs": [],
   "source": [
    "params_sphere_500 ={'eta1':2.5,\n",
    "        'eta2': 1.55,\n",
    "        'max_vel': 0.5,\n",
    "        'omega' : 0.7298,\n",
    "        'dim' : 500,\n",
    "        'population_size': 100,\n",
    "        'num_gen' : 25000\n",
    "    }\n"
   ]
  },
  {
   "cell_type": "code",
   "execution_count": 10,
   "metadata": {},
   "outputs": [
    {
     "name": "stdout",
     "output_type": "stream",
     "text": [
      "Problem name: Shifted Sphere CEC08\n",
      "\tC++ class name: pybind11::object\n",
      "\n",
      "\tGlobal dimension:\t\t\t500\n",
      "\tInteger dimension:\t\t\t0\n",
      "\tFitness dimension:\t\t\t1\n",
      "\tNumber of objectives:\t\t\t1\n",
      "\tEquality constraints dimension:\t\t0\n",
      "\tInequality constraints dimension:\t0\n",
      "\tLower bounds: [-100, -100, -100, -100, -100, ... ]\n",
      "\tUpper bounds: [100, 100, 100, 100, 100, ... ]\n",
      "\tHas batch fitness evaluation: false\n",
      "\n",
      "\tHas gradient: false\n",
      "\tUser implemented gradient sparsity: false\n",
      "\tHas hessians: false\n",
      "\tUser implemented hessians sparsity: false\n",
      "\n",
      "\tFitness evaluations: 0\n",
      "\n",
      "\tThread safety: none\n",
      "\n",
      "Extra info:\n",
      "\tDimensions: 500\n",
      "[]\n"
     ]
    },
    {
     "data": {
      "image/png": "[encoded data removed]",
      "text/plain": [
       "<Figure size 432x288 with 1 Axes>"
      ]
     },
     "metadata": {
      "needs_background": "light"
     },
     "output_type": "display_data"
    },
    {
     "name": "stdout",
     "output_type": "stream",
     "text": [
      "Best minimas of each run:\n",
      "[-449.9998994  -449.99988083 -449.99974903 -449.99974411 -449.99974404\n",
      " -449.99917851 -449.99906622 -449.99865154 -449.99542734 -449.99402246\n",
      " -449.99279109 -449.9907178  -449.98747201 -449.98321685 -449.97879694\n",
      " -449.8992732  -449.50871684 -449.21400467 -448.29190941 -447.88417939\n",
      " -444.0121027  -440.56468211 -437.06239542 -431.48869318 -423.10957908]\n",
      "Params:, 500, 25000, 100, 0.7298, 2.5, 1.55, 0.5, 5, 1, True, 1\n",
      "Time span: 410.75329\n",
      "Best loss0.00010059725821065513\n"
     ]
    }
   ],
   "source": [
    "Run_Shifted_Sphere(params_sphere_500)"
   ]
  },
  {
   "cell_type": "markdown",
   "metadata": {},
   "source": [
    "# Schwefel Problem\n",
    "\n",
    "Schwefel problem is a unimodal function which means that it has a single minima which will be its local and global minima\n",
    "\n",
    "### Choice of parameters\n",
    "In case of Schwefel problem a large value of cognitive component as compared to the social component will be efficient as it will lead to intensification or exploitation for each particle and pulling it towards its best position. It causes the particles to move towards the only optima which is a good strategy for a unimodal problem. We are using gbest as the neighbourhood type so that causes the particle to converge faster. Max velocity is set to a low value of 0.05 as the minima is inside a narrow valley while inertia is set to its default values of 0.7298. \n",
    "    parameters = {   \n",
    "        'eta1': 2.17,\n",
    "        'eta2': 1.84,\n",
    "        'max_vel': 0.05,\n",
    "        'omega' : 0.7298,\n",
    "    }\n",
    "    \n",
    "### Results Obtained\n",
    "#### 50 dimensions\n",
    "##### Parameters\n",
    "We set 'population_size' to 50 and 'num_gen' to 5000\n",
    "##### Results\n",
    "For 50 dimensions we reached the function minimum of -450 which is the actual optima. We did 25 runs and this was the output of our best run.  \n",
    "##### Stopping Criteria\n",
    "We use execution till MAX_FES as the stopping criteria. It is set to dimensions*5000 = 250,000\n",
    "##### Time Taken\n",
    " Using parallel architecture the time taken for reaching the minimum with 250,000 FES was 6 seconds\n",
    "##### Convergence Curve\n",
    "The fitness vs FES convergence curve, for champion run,  converges easily with lots of function evals left from Max_FES which is set to dimensions*5000 = 250,000. Please see the output below for the graph.\n",
    "#### 500 dimensions\n",
    "##### Parameters\n",
    "We set 'population_size' to 100 so that we don't make the population unmanageable and 'number of generations' to 25000 so that we reach our MAX_FES value. We did 25 runs and this was the output of our best run.  \n",
    "##### Results\n",
    "For 500 dimensions we reached the minimum of -413 which has a loss of 37 from optima\n",
    "##### Stopping Criteria\n",
    "We use execution till MAX_FES as the stopping criteria. It is set to dimensions*5000 = 2.5 million\n",
    "##### Time Taken\n",
    "Using parallel architecture the time taken for reaching the minimum with 2.5 million FES was 264 seconds.\n",
    "##### Convergence Curve\n",
    "The fitness vs FES convergence curve, for champion run,  converges with more function evals as compared to 50 dimensions. Please see the output below for the graph."
   ]
  },
  {
   "cell_type": "code",
   "execution_count": 11,
   "metadata": {},
   "outputs": [],
   "source": [
    "params_schwefel_50 = {'eta1': 1.85,\n",
    "        'eta2': 2.15,\n",
    "        'max_vel': 0.05,\n",
    "        'omega' : 0.7299,\n",
    "        'dim' : 50,\n",
    "        'population_size': 50,\n",
    "        'num_gen' : 5000\n",
    "    }\n"
   ]
  },
  {
   "cell_type": "code",
   "execution_count": 12,
   "metadata": {},
   "outputs": [
    {
     "name": "stdout",
     "output_type": "stream",
     "text": [
      "Problem name: Schwefel Problem CEC08\n",
      "\tC++ class name: pybind11::object\n",
      "\n",
      "\tGlobal dimension:\t\t\t50\n",
      "\tInteger dimension:\t\t\t0\n",
      "\tFitness dimension:\t\t\t1\n",
      "\tNumber of objectives:\t\t\t1\n",
      "\tEquality constraints dimension:\t\t0\n",
      "\tInequality constraints dimension:\t0\n",
      "\tLower bounds: [-100, -100, -100, -100, -100, ... ]\n",
      "\tUpper bounds: [100, 100, 100, 100, 100, ... ]\n",
      "\tHas batch fitness evaluation: false\n",
      "\n",
      "\tHas gradient: false\n",
      "\tUser implemented gradient sparsity: false\n",
      "\tHas hessians: false\n",
      "\tUser implemented hessians sparsity: false\n",
      "\n",
      "\tFitness evaluations: 0\n",
      "\n",
      "\tThread safety: none\n",
      "\n",
      "Extra info:\n",
      "\tDimensions: 50\n",
      "[]\n"
     ]
    },
    {
     "data": {
      "image/png": "[encoded data removed]",
      "text/plain": [
       "<Figure size 432x288 with 1 Axes>"
      ]
     },
     "metadata": {
      "needs_background": "light"
     },
     "output_type": "display_data"
    },
    {
     "name": "stdout",
     "output_type": "stream",
     "text": [
      "Best minimas of each run:\n",
      "[-449.93773823 -449.92051963 -449.9202258  -449.91343997 -449.91222453\n",
      " -449.90519812 -449.89579284 -449.89497134 -449.88746552 -449.84163232\n",
      " -449.83721854 -449.82504261 -449.81051938 -449.80929271 -449.80085854\n",
      " -449.80018896 -449.79117545 -449.78556678 -449.78097672 -449.7489055\n",
      " -449.72805246 -449.71634471 -449.63466909 -449.58704495 -449.44026866]\n",
      "Params:, 50, 5000, 50, 0.7299, 1.85, 2.15, 0.05, 5, 1, True, 1\n",
      "Time span: 8.284755\n",
      "Best loss0.06226176902202951\n"
     ]
    }
   ],
   "source": [
    "Run_Schwefel_Problem(params_schwefel_50)"
   ]
  },
  {
   "cell_type": "code",
   "execution_count": 13,
   "metadata": {},
   "outputs": [],
   "source": [
    "params_schwefel_500 = {'eta1': 2.17,\n",
    "        'eta2': 1.84,\n",
    "        'max_vel': 0.05,\n",
    "        'omega' : 0.7299,\n",
    "        'dim' : 500,\n",
    "        'population_size': 100,\n",
    "        'num_gen' : 25000\n",
    "    }"
   ]
  },
  {
   "cell_type": "code",
   "execution_count": 14,
   "metadata": {
    "scrolled": true
   },
   "outputs": [
    {
     "name": "stdout",
     "output_type": "stream",
     "text": [
      "Problem name: Schwefel Problem CEC08\n",
      "\tC++ class name: pybind11::object\n",
      "\n",
      "\tGlobal dimension:\t\t\t500\n",
      "\tInteger dimension:\t\t\t0\n",
      "\tFitness dimension:\t\t\t1\n",
      "\tNumber of objectives:\t\t\t1\n",
      "\tEquality constraints dimension:\t\t0\n",
      "\tInequality constraints dimension:\t0\n",
      "\tLower bounds: [-100, -100, -100, -100, -100, ... ]\n",
      "\tUpper bounds: [100, 100, 100, 100, 100, ... ]\n",
      "\tHas batch fitness evaluation: false\n",
      "\n",
      "\tHas gradient: false\n",
      "\tUser implemented gradient sparsity: false\n",
      "\tHas hessians: false\n",
      "\tUser implemented hessians sparsity: false\n",
      "\n",
      "\tFitness evaluations: 0\n",
      "\n",
      "\tThread safety: none\n",
      "\n",
      "Extra info:\n",
      "\tDimensions: 500\n",
      "[]\n"
     ]
    },
    {
     "data": {
      "image/png": "[encoded data removed]",
      "text/plain": [
       "<Figure size 432x288 with 1 Axes>"
      ]
     },
     "metadata": {
      "needs_background": "light"
     },
     "output_type": "display_data"
    },
    {
     "name": "stdout",
     "output_type": "stream",
     "text": [
      "Best minimas of each run:\n",
      "[-416.24521169 -414.32311351 -413.3468445  -412.99462116 -412.88846424\n",
      " -412.52144499 -411.94583574 -410.77199991 -410.53739403 -410.20310269\n",
      " -410.07343576 -409.64522321 -409.22107715 -409.06557893 -408.63812019\n",
      " -408.5361345  -408.41678662 -408.30403976 -407.83123354 -406.88145726\n",
      " -406.63002409 -406.31007878 -406.0021379  -405.3288988  -400.49932391]\n",
      "Params:, 500, 25000, 100, 0.7299, 2.17, 1.84, 0.05, 5, 1, True, 1\n",
      "Time span: 632.488823\n",
      "Best loss33.75478830867871\n"
     ]
    }
   ],
   "source": [
    "Run_Schwefel_Problem(params_schwefel_500)"
   ]
  },
  {
   "cell_type": "markdown",
   "metadata": {},
   "source": [
    "# Ackley\n",
    "\n",
    "Ackley is a multi-modal function which means that it has multiple minimas one of which will be a global minima\n",
    "\n",
    "### Choice of parameters\n",
    "In case of Ackley function a large value of cognitive component as compared to the social component as this will be  a good strategy for getting the optima. A high value of cognitive component helps in reaching the global minima when we are near it. The social componenet helps in avoiding particles in getting trapped in local optima. Max FES was set to 5000 times dimension. Max velocity is set to a low value of 0.15 while Inertia is set to its default values of 0.7290. \n",
    "    parameters = {   \n",
    "        'eta1': 2.65,\n",
    "        'eta2': 1.76,\n",
    "        'max_vel': 0.15,\n",
    "        'omega' : 0.7290,\n",
    "    }\n",
    "    \n",
    "### Results Obtained\n",
    "#### 50 dimensions\n",
    "##### Parameters\n",
    "We set 'population_size' to 50 and 'num_gen' to 5000. \n",
    "##### Results\n",
    "For 50 dimensions we reached the function minimum of -140 which is the actual optima. We did 25 runs and this was the output of our best run.  \n",
    "##### Stopping Criteria\n",
    "We use execution till MAX_FES as the stopping criteria. It is set to dimensions*5000 = 250,000\n",
    "##### Time Taken\n",
    " Using parallel architecture the time taken for reaching the minimum with 250,000 FES was 7.2 seconds\n",
    "##### Convergence Curve\n",
    "The fitness vs FES convergence curve, for champion run,  converges easily with lots of function evals left from Max_FES which is set to dimensions*5000 = 250,000. Please see the output below for the graph.\n",
    "\n",
    "#### 500 dimensions\n",
    "##### Parameters\n",
    "We set 'population_size' to 100 so that we don't make the population unmanageable and 'number of generations' to 25000 so that we reach our MAX_FES value.\n",
    "##### Results\n",
    "For 500 dimensions we reached the minimum of -136 which has a loss of 4 from optima. We did 25 runs and this was the output of our best run.  \n",
    "##### Stopping Criteria\n",
    "We use execution till MAX_FES as the stopping criteria. It is set to dimensions*5000 = 2.5 million\n",
    "##### Time Taken\n",
    "Using parallel architecture the time taken for reaching the minimum with 2.5 million FES was 344 seconds.\n",
    "##### Convergence Curve\n",
    "The fitness vs FES convergence curve, for champion run,  converges with more function evals as compared to 50 dimensions. Please see the output below for the graph."
   ]
  },
  {
   "cell_type": "code",
   "execution_count": 15,
   "metadata": {},
   "outputs": [],
   "source": [
    "params_ackley_50 = {'eta1': 2.65,\n",
    "        'eta2': 1.76,\n",
    "        'max_vel': 0.15,\n",
    "        'omega' : 0.7290,\n",
    "        'dim' : 50,\n",
    "        'population_size': 50,\n",
    "        'num_gen' : 5000\n",
    "    }"
   ]
  },
  {
   "cell_type": "code",
   "execution_count": 16,
   "metadata": {},
   "outputs": [
    {
     "name": "stdout",
     "output_type": "stream",
     "text": [
      "Problem name: Shifted Ackley CEC08\n",
      "\tC++ class name: pybind11::object\n",
      "\n",
      "\tGlobal dimension:\t\t\t50\n",
      "\tInteger dimension:\t\t\t0\n",
      "\tFitness dimension:\t\t\t1\n",
      "\tNumber of objectives:\t\t\t1\n",
      "\tEquality constraints dimension:\t\t0\n",
      "\tInequality constraints dimension:\t0\n",
      "\tLower bounds: [-32, -32, -32, -32, -32, ... ]\n",
      "\tUpper bounds: [32, 32, 32, 32, 32, ... ]\n",
      "\tHas batch fitness evaluation: false\n",
      "\n",
      "\tHas gradient: false\n",
      "\tUser implemented gradient sparsity: false\n",
      "\tHas hessians: false\n",
      "\tUser implemented hessians sparsity: false\n",
      "\n",
      "\tFitness evaluations: 0\n",
      "\n",
      "\tThread safety: none\n",
      "\n",
      "Extra info:\n",
      "\tDimensions: 50\n",
      "[]\n"
     ]
    },
    {
     "data": {
      "image/png": "[encoded data removed]",
      "text/plain": [
       "<Figure size 432x288 with 1 Axes>"
      ]
     },
     "metadata": {
      "needs_background": "light"
     },
     "output_type": "display_data"
    },
    {
     "name": "stdout",
     "output_type": "stream",
     "text": [
      "Best minimas of each run:\n",
      "[-140.         -140.         -140.         -140.         -140.\n",
      " -140.         -140.         -140.         -140.         -139.12094883\n",
      " -138.97291801 -138.8448515  -138.73025235 -138.73025235 -138.73025235\n",
      " -138.62568788 -138.62568788 -138.52900034 -138.43871697 -138.43871697\n",
      " -138.35377637 -138.27338255 -138.19691999 -138.12517116 -137.27776487]\n",
      "Params:, 50, 5000, 50, 0.729, 2.65, 1.76, 0.15, 5, 1, True, 1\n",
      "Time span: 8.821028\n",
      "Best loss5.684341886080802e-14\n"
     ]
    }
   ],
   "source": [
    "Run_Ackley(params_ackley_50)"
   ]
  },
  {
   "cell_type": "code",
   "execution_count": 17,
   "metadata": {},
   "outputs": [],
   "source": [
    "params_ackley_500 = {'eta1': 2.65,\n",
    "        'eta2': 1.76,\n",
    "        'max_vel': 0.15,\n",
    "        'omega' : 0.7290,\n",
    "        'dim' : 500,\n",
    "        'population_size': 100,\n",
    "        'num_gen' : 25000\n",
    "    }\n"
   ]
  },
  {
   "cell_type": "code",
   "execution_count": 18,
   "metadata": {},
   "outputs": [
    {
     "name": "stdout",
     "output_type": "stream",
     "text": [
      "Problem name: Shifted Ackley CEC08\n",
      "\tC++ class name: pybind11::object\n",
      "\n",
      "\tGlobal dimension:\t\t\t500\n",
      "\tInteger dimension:\t\t\t0\n",
      "\tFitness dimension:\t\t\t1\n",
      "\tNumber of objectives:\t\t\t1\n",
      "\tEquality constraints dimension:\t\t0\n",
      "\tInequality constraints dimension:\t0\n",
      "\tLower bounds: [-32, -32, -32, -32, -32, ... ]\n",
      "\tUpper bounds: [32, 32, 32, 32, 32, ... ]\n",
      "\tHas batch fitness evaluation: false\n",
      "\n",
      "\tHas gradient: false\n",
      "\tUser implemented gradient sparsity: false\n",
      "\tHas hessians: false\n",
      "\tUser implemented hessians sparsity: false\n",
      "\n",
      "\tFitness evaluations: 0\n",
      "\n",
      "\tThread safety: none\n",
      "\n",
      "Extra info:\n",
      "\tDimensions: 500\n",
      "[]\n"
     ]
    },
    {
     "data": {
      "image/png": "[encoded data removed]",
      "text/plain": [
       "<Figure size 432x288 with 1 Axes>"
      ]
     },
     "metadata": {
      "needs_background": "light"
     },
     "output_type": "display_data"
    },
    {
     "name": "stdout",
     "output_type": "stream",
     "text": [
      "Best minimas of each run:\n",
      "[-127.04542309 -123.27401429 -121.4280859  -121.13407937 -121.11870796\n",
      " -120.95958342 -120.94339546 -120.92789846 -120.8901188  -120.87348192\n",
      " -120.85824872 -120.82199757 -120.80818488 -120.78795286 -120.77430149\n",
      " -120.7740535  -120.76637202 -120.75518214 -120.72925979 -120.72487545\n",
      " -120.72276075 -120.65209847 -120.64249791 -120.6373954  -120.60190768]\n",
      "Params:, 500, 25000, 100, 0.729, 2.65, 1.76, 0.15, 5, 1, True, 1\n",
      "Time span: 618.337975\n",
      "Best loss12.954576912791751\n"
     ]
    }
   ],
   "source": [
    "Run_Ackley(params_ackley_500)"
   ]
  },
  {
   "cell_type": "markdown",
   "metadata": {},
   "source": [
    "# Shifted Griewank\n",
    "\n",
    "Shifted Griewank is multi-modal function which means that it has may have multiple minimas one of which will be a global minima\n",
    "\n",
    "### Choice of parameters\n",
    "In case of shifted griewank a large value of cognitive component as compared to the social component will be efficient as it will cause intensificaton causing particles to move towards the optima. The social compnent helps in avoiding particles in getting trapped in local minimas. Max FES was set to 5000 times dimension. Max velocity is set to a low value of 0.28 while Inertia is set to a value of 0.7215. We use gbest PSO which reflects a star topology as we want the particles to learn from the entire swarm. \n",
    "    parameters = \n",
    "    {   \n",
    "        'eta1': 2.2,\n",
    "        'eta2': 1.9,\n",
    "        'max_vel': 0.28,\n",
    "        'omega' : 0.7215,\n",
    "    }\n",
    "    \n",
    "### Results Obtained\n",
    "#### 50 dimensions\n",
    "##### Parameters\n",
    "We set 'population_size' to 50 and 'num_gen' to 5000\n",
    "##### Results\n",
    "For 50 dimensions we reached the function minimum of -180 which is the actual optima. We did 25 runs and this was the output of our best run.  \n",
    "##### Stopping Criteria\n",
    "We use execution till MAX_FES as the stopping criteria. It is set to dimensions*5000 = 250,000\n",
    "##### Time Taken\n",
    " Using parallel architecture the time taken for reaching the minimum with 250,000 FES was 6.5 seconds\n",
    "##### Convergence Curve\n",
    "The fitness vs FES convergence curve, for champion run,  converges easily with lots of function evals left from Max_FES which is set to dimensions*5000 = 250,000. Please see the output below for the graph.\n",
    "#### 500 dimensions\n",
    "##### Parameters\n",
    "We set 'population_size' to 100 so that we don't make the population unmanageable and 'number of generations' to 25000 so that we reach our MAX_FES value.   \n",
    "##### Results\n",
    "For 500 dimensions we reached the minimum of -180 which is the optima. We did 25 runs and this was the output of our best run.\n",
    "##### Stopping Criteria\n",
    "We use execution till MAX_FES as the stopping criteria. It is set to dimensions*5000 = 2.5 million\n",
    "##### Time Taken\n",
    "Using parallel architecture the time taken for reaching the minimum with 2.5 million FES was 326 seconds.\n",
    "##### Convergence Curve\n",
    "The fitness vs FES convergence curve, for champion run,  converges with more function evals as compared to 50 dimensions. Please see the output below for the graph."
   ]
  },
  {
   "cell_type": "code",
   "execution_count": 19,
   "metadata": {},
   "outputs": [],
   "source": [
    "\n",
    "params_griewank_50 ={'eta1': 2.2,\n",
    "        'eta2': 1.9,\n",
    "        'max_vel': 0.28,\n",
    "        'omega' : 0.7215,\n",
    "        'dim' : 50,\n",
    "        'population_size': 50,\n",
    "        'num_gen' : 5000\n",
    "    }\n"
   ]
  },
  {
   "cell_type": "code",
   "execution_count": 20,
   "metadata": {
    "scrolled": true
   },
   "outputs": [
    {
     "name": "stdout",
     "output_type": "stream",
     "text": [
      "Problem name: Shifted Griewank CEC08\n",
      "\tC++ class name: pybind11::object\n",
      "\n",
      "\tGlobal dimension:\t\t\t50\n",
      "\tInteger dimension:\t\t\t0\n",
      "\tFitness dimension:\t\t\t1\n",
      "\tNumber of objectives:\t\t\t1\n",
      "\tEquality constraints dimension:\t\t0\n",
      "\tInequality constraints dimension:\t0\n",
      "\tLower bounds: [-600, -600, -600, -600, -600, ... ]\n",
      "\tUpper bounds: [600, 600, 600, 600, 600, ... ]\n",
      "\tHas batch fitness evaluation: false\n",
      "\n",
      "\tHas gradient: false\n",
      "\tUser implemented gradient sparsity: false\n",
      "\tHas hessians: false\n",
      "\tUser implemented hessians sparsity: false\n",
      "\n",
      "\tFitness evaluations: 0\n",
      "\n",
      "\tThread safety: none\n",
      "\n",
      "Extra info:\n",
      "\tDimensions: 50\n",
      "[]\n"
     ]
    },
    {
     "data": {
      "image/png": "[encoded data removed]",
      "text/plain": [
       "<Figure size 432x288 with 1 Axes>"
      ]
     },
     "metadata": {
      "needs_background": "light"
     },
     "output_type": "display_data"
    },
    {
     "name": "stdout",
     "output_type": "stream",
     "text": [
      "Best minimas of each run:\n",
      "[-180.         -180.         -180.         -180.         -180.\n",
      " -179.98768393 -179.98768393 -179.98767901 -179.96323035 -179.96313275\n",
      " -179.96054131 -179.95578819 -179.92693692 -179.92135775 -179.92135775\n",
      " -179.91974841 -179.91728717 -179.91482839 -179.8960352  -179.89111027\n",
      " -179.74420897 -179.71031063 -179.09495327 -177.79437636 -154.77907947]\n",
      "Params:, 50, 5000, 50, 0.7215, 2.2, 1.9, 0.28, 5, 1, True, 1\n",
      "Time span: 9.506244\n",
      "Best loss2.842170943040401e-14\n"
     ]
    }
   ],
   "source": [
    "Run_Griewank(params_griewank_50)"
   ]
  },
  {
   "cell_type": "code",
   "execution_count": 21,
   "metadata": {},
   "outputs": [],
   "source": [
    "params_griewank_500 ={'eta1': 2.2,\n",
    "        'eta2': 1.9,\n",
    "        'max_vel': 0.28,\n",
    "        'omega' : 0.7215,\n",
    "        'dim' : 500,\n",
    "        'population_size': 100,\n",
    "        'num_gen' : 25000\n",
    "    }\n"
   ]
  },
  {
   "cell_type": "code",
   "execution_count": 22,
   "metadata": {},
   "outputs": [
    {
     "name": "stdout",
     "output_type": "stream",
     "text": [
      "Problem name: Shifted Griewank CEC08\n",
      "\tC++ class name: pybind11::object\n",
      "\n",
      "\tGlobal dimension:\t\t\t500\n",
      "\tInteger dimension:\t\t\t0\n",
      "\tFitness dimension:\t\t\t1\n",
      "\tNumber of objectives:\t\t\t1\n",
      "\tEquality constraints dimension:\t\t0\n",
      "\tInequality constraints dimension:\t0\n",
      "\tLower bounds: [-600, -600, -600, -600, -600, ... ]\n",
      "\tUpper bounds: [600, 600, 600, 600, 600, ... ]\n",
      "\tHas batch fitness evaluation: false\n",
      "\n",
      "\tHas gradient: false\n",
      "\tUser implemented gradient sparsity: false\n",
      "\tHas hessians: false\n",
      "\tUser implemented hessians sparsity: false\n",
      "\n",
      "\tFitness evaluations: 0\n",
      "\n",
      "\tThread safety: none\n",
      "\n",
      "Extra info:\n",
      "\tDimensions: 500\n",
      "[]\n"
     ]
    },
    {
     "data": {
      "image/png": "[encoded data removed]",
      "text/plain": [
       "<Figure size 432x288 with 1 Axes>"
      ]
     },
     "metadata": {
      "needs_background": "light"
     },
     "output_type": "display_data"
    },
    {
     "name": "stdout",
     "output_type": "stream",
     "text": [
      "Best minimas of each run:\n",
      "[-179.99958147 -179.99813714 -179.99254399 -179.85051539 -179.80238498\n",
      " -179.77401085 -179.71709556 -179.70806669 -179.70263006 -179.59876775\n",
      " -179.57823202 -179.57273015 -179.54708822 -179.49630761 -179.35246877\n",
      " -179.32895869 -179.26833766 -179.09104083 -179.02730569 -178.93660916\n",
      " -178.90100785 -178.89454699 -178.8376516  -178.56113664 -178.01274034]\n",
      "Params:, 500, 25000, 100, 0.7215, 2.2, 1.9, 0.28, 5, 1, True, 1\n",
      "Time span: 537.207961\n",
      "Best loss0.0004185282877813279\n"
     ]
    }
   ],
   "source": [
    "Run_Griewank(params_griewank_500)"
   ]
  },
  {
   "cell_type": "markdown",
   "metadata": {},
   "source": [
    "# Shifted Rastrigin\n",
    "\n",
    "Shifted Rastrigin is multi-modal function which means that it has may have multiple minimas one of which will be a global minima\n",
    "\n",
    "### Choice of parameters\n",
    "In case of shifted rastrigin there are a very large number of local minimas so a large value of social component as compared to the cognitive component will be efficient as it will pull the swarm towards the global best position causing particles to escape local minimas. The cognitive component helps in reaching the optimas using intensification. Max FES was set to 5000 times dimension. Max velocity is set to a low value of 0.3 while inertia is set to a value of 0.7295. \n",
    "    parameters = \n",
    "    {   \n",
    "        'eta1': 1.9,\n",
    "        'eta2': 2.9,\n",
    "        'max_vel': 0.3,\n",
    "        'omega' : 0.7295    \n",
    "    }\n",
    "    \n",
    "### Results Obtained\n",
    "#### 50 dimensions\n",
    "##### Parameters\n",
    "We set 'population_size' to 50 and 'num_gen' to 5000\n",
    "##### Results\n",
    "For 50 dimensions we reached the function minimum of -294 which has a loss of 36 from the actual optima. We did 25 runs and this was the output of our best run.  \n",
    "##### Stopping Criteria\n",
    "We use execution till MAX_FES as the stopping criteria. It is set to dimensions*5000 = 250,000\n",
    "##### Time Taken\n",
    " Using parallel architecture the time taken for reaching the minimum with 250,000 FES was 6.8 seconds\n",
    "##### Convergence Curve\n",
    "The fitness vs FES convergence curve, for champion run,  converges easily with lots of function evals left from Max_FES which is set to dimensions*5000 = 250,000. Please see the output below for the graph.\n",
    "#### 500 dimensions\n",
    "##### Parameters\n",
    "We set 'population_size' to 100 so that we don't make the population unmanageable and 'number of generations' to 25000 so that we reach our MAX_FES value.   \n",
    "##### Results\n",
    "For 500 dimensions we reached the minimum of 1816 which has a loss of 2146 from the optima. We did 25 runs and this was the output of our best run.\n",
    "##### Stopping Criteria\n",
    "We use execution till MAX_FES as the stopping criteria. It is set to dimensions*5000 = 2.5 million\n",
    "##### Time Taken\n",
    "Using parallel architecture the time taken for reaching the minimum with 2.5 million FES was 326 seconds.\n",
    "##### Convergence Curve\n",
    "The fitness vs FES convergence curve, for champion run,  converges with more function evals as compared to 50 dimensions. Please see the output below for the graph."
   ]
  },
  {
   "cell_type": "code",
   "execution_count": 23,
   "metadata": {},
   "outputs": [],
   "source": [
    "\n",
    "params_rastrigin_50 ={'eta1': 1.9,\n",
    "        'eta2': 2.9,\n",
    "        'max_vel': 0.3,\n",
    "        'omega' : 0.7295,\n",
    "        'dim' : 50,\n",
    "        'population_size': 100,\n",
    "        'num_gen' : 2500\n",
    "    }\n"
   ]
  },
  {
   "cell_type": "code",
   "execution_count": 24,
   "metadata": {
    "scrolled": true
   },
   "outputs": [
    {
     "name": "stdout",
     "output_type": "stream",
     "text": [
      "Problem name: Shifted Rastrigin CEC08\n",
      "\tC++ class name: pybind11::object\n",
      "\n",
      "\tGlobal dimension:\t\t\t50\n",
      "\tInteger dimension:\t\t\t0\n",
      "\tFitness dimension:\t\t\t1\n",
      "\tNumber of objectives:\t\t\t1\n",
      "\tEquality constraints dimension:\t\t0\n",
      "\tInequality constraints dimension:\t0\n",
      "\tLower bounds: [-5, -5, -5, -5, -5, ... ]\n",
      "\tUpper bounds: [5, 5, 5, 5, 5, ... ]\n",
      "\tHas batch fitness evaluation: false\n",
      "\n",
      "\tHas gradient: false\n",
      "\tUser implemented gradient sparsity: false\n",
      "\tHas hessians: false\n",
      "\tUser implemented hessians sparsity: false\n",
      "\n",
      "\tFitness evaluations: 0\n",
      "\n",
      "\tThread safety: none\n",
      "\n",
      "Extra info:\n",
      "\tDimensions: 50\n",
      "[]\n"
     ]
    },
    {
     "data": {
      "image/png": "[encoded data removed]",
      "text/plain": [
       "<Figure size 432x288 with 1 Axes>"
      ]
     },
     "metadata": {
      "needs_background": "light"
     },
     "output_type": "display_data"
    },
    {
     "name": "stdout",
     "output_type": "stream",
     "text": [
      "Best minimas of each run:\n",
      "[-300.33003731 -283.00247818 -278.8585173  -271.63488903 -269.4799408\n",
      " -269.14455199 -262.03577335 -260.77933352 -260.02855506 -256.3375479\n",
      " -253.90131232 -253.53397828 -253.33274374 -251.25530852 -250.45343193\n",
      " -248.11818132 -246.76187725 -245.74704566 -245.58069704 -238.85057012\n",
      " -237.61428174 -236.45024138 -232.71299708 -231.14330418 -216.29601158]\n",
      "Params:, 50, 2500, 100, 0.7295, 1.9, 2.9, 0.3, 5, 1, True, 1\n",
      "Time span: 11.765523\n",
      "Best loss29.66996268964124\n"
     ]
    }
   ],
   "source": [
    "Run_Rastrigin(params_rastrigin_50)"
   ]
  },
  {
   "cell_type": "code",
   "execution_count": 25,
   "metadata": {},
   "outputs": [],
   "source": [
    "params_rastrigin_500 ={'eta1': 1.9,\n",
    "        'eta2': 2.9,\n",
    "        'max_vel': 0.3,\n",
    "        'omega' : 0.7295,\n",
    "        'dim' : 500,\n",
    "        'population_size': 100,\n",
    "        'num_gen' : 25000\n",
    "    }\n"
   ]
  },
  {
   "cell_type": "code",
   "execution_count": 26,
   "metadata": {
    "scrolled": true
   },
   "outputs": [
    {
     "name": "stdout",
     "output_type": "stream",
     "text": [
      "Problem name: Shifted Rastrigin CEC08\n",
      "\tC++ class name: pybind11::object\n",
      "\n",
      "\tGlobal dimension:\t\t\t500\n",
      "\tInteger dimension:\t\t\t0\n",
      "\tFitness dimension:\t\t\t1\n",
      "\tNumber of objectives:\t\t\t1\n",
      "\tEquality constraints dimension:\t\t0\n",
      "\tInequality constraints dimension:\t0\n",
      "\tLower bounds: [-5, -5, -5, -5, -5, ... ]\n",
      "\tUpper bounds: [5, 5, 5, 5, 5, ... ]\n",
      "\tHas batch fitness evaluation: false\n",
      "\n",
      "\tHas gradient: false\n",
      "\tUser implemented gradient sparsity: false\n",
      "\tHas hessians: false\n",
      "\tUser implemented hessians sparsity: false\n",
      "\n",
      "\tFitness evaluations: 0\n",
      "\n",
      "\tThread safety: none\n",
      "\n",
      "Extra info:\n",
      "\tDimensions: 500\n",
      "[]\n"
     ]
    },
    {
     "data": {
      "image/png": "[encoded data removed]",
      "text/plain": [
       "<Figure size 432x288 with 1 Axes>"
      ]
     },
     "metadata": {
      "needs_background": "light"
     },
     "output_type": "display_data"
    },
    {
     "name": "stdout",
     "output_type": "stream",
     "text": [
      "Best minimas of each run:\n",
      "[2487.0288271  2525.04237337 2662.8677259  2670.50005887 2674.57238244\n",
      " 2702.01289779 2719.46157495 2744.5331616  2773.53735192 2785.50208467\n",
      " 2835.39420214 2843.82860888 2881.83575654 2921.54098131 2965.61602887\n",
      " 3010.11766008 3034.8556978  3050.55291331 3062.64758568 3069.41996796\n",
      " 3087.79406676 3156.68978948 3297.9596152  3447.53004373 3597.90396935]\n",
      "Params:, 500, 25000, 100, 0.7295, 1.9, 2.9, 0.3, 5, 1, True, 1\n",
      "Time span: 549.523873\n",
      "Best loss2817.028827103605\n"
     ]
    }
   ],
   "source": [
    "Run_Rastrigin(params_rastrigin_500)"
   ]
  },
  {
   "cell_type": "markdown",
   "metadata": {},
   "source": [
    "# Shifted Rosenbrock\n",
    "\n",
    "Shifted Rosenborck is multi-modal function which means that it has may have multiple minimas one of which will be a global minima\n",
    "\n",
    "### Choice of parameters\n",
    "In case of shifted Rosenbrock a larger value of cognitive component as compared to the social component will be efficient as when we are near the global minima intensification will allow the particles to go down deep towards minima. A not so small value of social component helps particles escape from being trapped in the local minims. Max FES was set to 5000 times dimension. Max velocity is set to a low value of 0.1 as the global minima is a narrow valley which means we do not want go over it, while inertia is set to a value of 0.7295. \n",
    "    parameters = \n",
    "    {   \n",
    "        'eta1':2.22,\n",
    "        'eta2': 1.93,\n",
    "        'max_vel': 0.1,\n",
    "        'omega' : 0.7293    \n",
    "    }\n",
    "    \n",
    "### Results Obtained\n",
    "#### 50 dimensions\n",
    "##### Parameters\n",
    "We set 'population_size' to 50 and 'num_gen' to 5000\n",
    "##### Results\n",
    "For 50 dimensions we reached the function minimum of 390 which the actual optima. We did 25 runs and this was the output of our best run.  \n",
    "##### Stopping Criteria\n",
    "We use execution till MAX_FES as the stopping criteria. It is set to dimensions*5000 = 250,000\n",
    "##### Time Taken\n",
    " Using parallel architecture the time taken for reaching the minimum with 250,000 FES was 7.8 seconds\n",
    "##### Convergence Curve\n",
    "The fitness vs FES convergence curve, for champion run,  converges easily with lots of function evals left from Max_FES which is set to dimensions*5000 = 250,000. Please see the output below for the graph.\n",
    "#### 500 dimensions\n",
    "##### Parameters\n",
    "We set 'population_size' to 100 so that we don't make the population unmanageable and 'number of generations' to 25000 so that we reach our MAX_FES value.   \n",
    "##### Results\n",
    "For 500 dimensions we reached the minimum of 1452 which has a loss of 1062 from the optima. We did 25 runs and this was the output of our best run.\n",
    "##### Stopping Criteria\n",
    "We use execution till MAX_FES as the stopping criteria. It is set to dimensions*5000 = 2.5 million\n",
    "##### Time Taken\n",
    "Using parallel architecture the time taken for reaching the minimum with 2.5 million FES was 314 seconds.\n",
    "##### Convergence Curve\n",
    "The fitness vs FES convergence curve, for champion run,  converges with more function evals as compared to 50 dimensions. Please see the output below for the graph."
   ]
  },
  {
   "cell_type": "code",
   "execution_count": 27,
   "metadata": {},
   "outputs": [],
   "source": [
    "params_rosenbrock_50 ={'eta1':2.22,\n",
    "        'eta2': 1.93,\n",
    "        'max_vel': 0.1,\n",
    "        'omega' : 0.7295,\n",
    "        'dim' : 50,\n",
    "        'population_size': 50,\n",
    "        'num_gen' : 5000\n",
    "    }\n"
   ]
  },
  {
   "cell_type": "code",
   "execution_count": 28,
   "metadata": {},
   "outputs": [
    {
     "name": "stdout",
     "output_type": "stream",
     "text": [
      "Problem name: Shifted Rosenbrock CEC08\n",
      "\tC++ class name: pybind11::object\n",
      "\n",
      "\tGlobal dimension:\t\t\t50\n",
      "\tInteger dimension:\t\t\t0\n",
      "\tFitness dimension:\t\t\t1\n",
      "\tNumber of objectives:\t\t\t1\n",
      "\tEquality constraints dimension:\t\t0\n",
      "\tInequality constraints dimension:\t0\n",
      "\tLower bounds: [-100, -100, -100, -100, -100, ... ]\n",
      "\tUpper bounds: [100, 100, 100, 100, 100, ... ]\n",
      "\tHas batch fitness evaluation: false\n",
      "\n",
      "\tHas gradient: false\n",
      "\tUser implemented gradient sparsity: false\n",
      "\tHas hessians: false\n",
      "\tUser implemented hessians sparsity: false\n",
      "\n",
      "\tFitness evaluations: 0\n",
      "\n",
      "\tThread safety: none\n",
      "\n",
      "Extra info:\n",
      "\tDimensions: 50\n",
      "[]\n"
     ]
    },
    {
     "data": {
      "image/png": "[encoded data removed]",
      "text/plain": [
       "<Figure size 432x288 with 1 Axes>"
      ]
     },
     "metadata": {
      "needs_background": "light"
     },
     "output_type": "display_data"
    },
    {
     "name": "stdout",
     "output_type": "stream",
     "text": [
      "Best minimas of each run:\n",
      "[390.92978347 395.10042689 395.94090608 397.70133826 399.78205817\n",
      " 402.83347556 403.05354471 403.17059951 414.33507818 420.18424658\n",
      " 425.50864914 426.06559395 427.80481262 428.5225487  428.69736155\n",
      " 430.62323866 463.14087694 466.03721597 470.1034417  470.53551104\n",
      " 477.35719817 478.23158652 479.03877047 479.93907745 527.74088248]\n",
      "Params:, 50, 5000, 50, 0.7295, 2.22, 1.93, 0.1, 5, 1, True, 1\n",
      "Time span: 8.783193\n",
      "Best loss0.9297834695851179\n"
     ]
    }
   ],
   "source": [
    "Run_Rosenbrock(params_rosenbrock_50)"
   ]
  },
  {
   "cell_type": "code",
   "execution_count": 29,
   "metadata": {},
   "outputs": [],
   "source": [
    "params_rosenbrock_500 ={'eta1':2.22,\n",
    "        'eta2': 1.93,\n",
    "        'max_vel': 0.1,\n",
    "        'omega' : 0.7295,\n",
    "        'dim' : 500,\n",
    "        'population_size': 100,\n",
    "        'num_gen' : 25000\n",
    "    }"
   ]
  },
  {
   "cell_type": "code",
   "execution_count": 30,
   "metadata": {},
   "outputs": [
    {
     "name": "stdout",
     "output_type": "stream",
     "text": [
      "Problem name: Shifted Rosenbrock CEC08\n",
      "\tC++ class name: pybind11::object\n",
      "\n",
      "\tGlobal dimension:\t\t\t500\n",
      "\tInteger dimension:\t\t\t0\n",
      "\tFitness dimension:\t\t\t1\n",
      "\tNumber of objectives:\t\t\t1\n",
      "\tEquality constraints dimension:\t\t0\n",
      "\tInequality constraints dimension:\t0\n",
      "\tLower bounds: [-100, -100, -100, -100, -100, ... ]\n",
      "\tUpper bounds: [100, 100, 100, 100, 100, ... ]\n",
      "\tHas batch fitness evaluation: false\n",
      "\n",
      "\tHas gradient: false\n",
      "\tUser implemented gradient sparsity: false\n",
      "\tHas hessians: false\n",
      "\tUser implemented hessians sparsity: false\n",
      "\n",
      "\tFitness evaluations: 0\n",
      "\n",
      "\tThread safety: none\n",
      "\n",
      "Extra info:\n",
      "\tDimensions: 500\n",
      "[]\n"
     ]
    },
    {
     "data": {
      "image/png": "[encoded data removed]",
      "text/plain": [
       "<Figure size 432x288 with 1 Axes>"
      ]
     },
     "metadata": {
      "needs_background": "light"
     },
     "output_type": "display_data"
    },
    {
     "name": "stdout",
     "output_type": "stream",
     "text": [
      "Best minimas of each run:\n",
      "[1.28484774e+03 1.42735787e+03 1.54188268e+03 1.59700651e+03\n",
      " 1.60121154e+03 1.68505027e+03 1.71463077e+03 1.74781814e+03\n",
      " 1.79371927e+03 1.83644142e+03 1.87391073e+03 1.94548775e+03\n",
      " 2.04698916e+03 2.08788318e+03 2.41611163e+03 7.20624381e+03\n",
      " 8.12079951e+05 1.08967367e+06 1.23247257e+06 1.95874913e+06\n",
      " 2.03803982e+06 6.53491827e+06 8.52413557e+06 2.02486296e+07\n",
      " 3.03189994e+07]\n",
      "Params:, 500, 25000, 100, 0.7295, 2.22, 1.93, 0.1, 5, 1, True, 1\n",
      "Time span: 426.880096\n",
      "Best loss894.8477416094142\n"
     ]
    }
   ],
   "source": [
    "Run_Rosenbrock(params_rosenbrock_500)"
   ]
  },
  {
   "cell_type": "code",
   "execution_count": null,
   "metadata": {},
   "outputs": [],
   "source": []
  }
 ],
 "metadata": {
  "celltoolbar": "Slideshow",
  "kernelspec": {
   "display_name": "Python 3",
   "language": "python",
   "name": "python3"
  },
  "language_info": {
   "codemirror_mode": {
    "name": "ipython",
    "version": 3
   },
   "file_extension": ".py",
   "mimetype": "text/x-python",
   "name": "python",
   "nbconvert_exporter": "python",
   "pygments_lexer": "ipython3",
   "version": "3.7.8"
  }
 },
 "nbformat": 4,
 "nbformat_minor": 4
}
