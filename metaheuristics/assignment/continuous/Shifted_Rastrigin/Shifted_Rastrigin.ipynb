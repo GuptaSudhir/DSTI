{
 "cells": [
  {
   "cell_type": "code",
   "execution_count": 4,
   "metadata": {},
   "outputs": [],
   "source": [
    "import ctypes\n",
    "import os\n",
    "import sys\n",
    "import pygmo as pg\n",
    "from pygmo import *\n",
    "import numpy as np\n",
    "import sys  \n",
    "sys.path.insert(14, '../cec08/')\n",
    "import data\n",
    "from data import rastrigin, f_bias\n"
   ]
  },
  {
   "cell_type": "code",
   "execution_count": 10,
   "metadata": {},
   "outputs": [],
   "source": [
    "import numpy as np\n",
    "from numba import njit\n",
    "\n",
    "class Shifted_Rastrigin:\n",
    "    def __init__(self, dim):\n",
    "        self.dim = dim\n",
    "        self.upper = np.zeros([self.dim])\n",
    "        self.lower = np.zeros([self.dim])\n",
    "        for i in range(self.dim):\n",
    "            self.upper[i] = 5\n",
    "            self.lower[i] = -5\n",
    "    # No python C++ execution for performance gains\n",
    "    @njit\n",
    "    def fitness_fast(x,rastrigin,dim):\n",
    "        F = 0\n",
    "        for i in range(dim):\n",
    "            z = x[i]-rastrigin[i]\n",
    "            F += (np.power(z,2) - 10*np.cos(2*np.pi*z) + 10)\n",
    "        return F\n",
    "    def fitness(self, x):\n",
    "        retval = np.zeros((1,),dtype=float)\n",
    "        retval[0] = Shifted_Rastrigin.fitness_fast(x,rastrigin,self.dim) +  f_bias[3]\n",
    "        return retval\n",
    "    def get_bounds(self):\n",
    "        return (self.lower,self.upper)\n",
    "    def get_name(self):\n",
    "        return \"Shifted Rastrigin CEC08\"\n",
    "    def get_extra_info(self):\n",
    "        return \"\\tDimensions: \" + str(self.dim)"
   ]
  }
 ],
 "metadata": {
  "kernelspec": {
   "display_name": "Python 3",
   "language": "python",
   "name": "python3"
  },
  "language_info": {
   "codemirror_mode": {
    "name": "ipython",
    "version": 3
   },
   "file_extension": ".py",
   "mimetype": "text/x-python",
   "name": "python",
   "nbconvert_exporter": "python",
   "pygments_lexer": "ipython3",
   "version": "3.7.8"
  }
 },
 "nbformat": 4,
 "nbformat_minor": 2
}
