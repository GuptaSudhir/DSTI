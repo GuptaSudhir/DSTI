{
 "cells": [
  {
   "cell_type": "code",
   "execution_count": 8,
   "metadata": {},
   "outputs": [],
   "source": [
    "import ctypes\n",
    "import os\n",
    "import sys\n",
    "import pygmo as pg\n",
    "from pygmo import *\n",
    "import numpy as np\n",
    "import sys  \n",
    "sys.path.insert(15, '../cec08/')\n",
    "import data\n",
    "from data import rosenbrock, f_bias"
   ]
  },
  {
   "cell_type": "code",
   "execution_count": 9,
   "metadata": {},
   "outputs": [],
   "source": [
    "import numpy as np\n",
    "from numba import njit\n",
    "\n",
    "class Shifted_Rosenbrock:\n",
    "    def __init__(self, dim):\n",
    "        self.dim = dim\n",
    "        self.upper = np.zeros([self.dim])\n",
    "        self.lower = np.zeros([self.dim])\n",
    "        for i in range(self.dim):\n",
    "            self.upper[i] = 100\n",
    "            self.lower[i] = -100\n",
    "    # No python C++ execution for performance gains\n",
    "    @njit\n",
    "    def fitness_fast(x,rosenbrock,dim):\n",
    "        F = 0\n",
    "        for i in range(dim-1):\n",
    "            z = x[i] - rosenbrock[i] + 1\n",
    "            z1 = x[i+1] - rosenbrock[i+1] + 1\n",
    "            zs = z*z\n",
    "            F += 100*((zs-z1)*(zs-z1)) + (z-1)*(z-1)\n",
    "        return F\n",
    "    def fitness(self, x):\n",
    "        retval = np.zeros((1,),dtype=float)\n",
    "        retval[0]  = Shifted_Rosenbrock.fitness_fast(x,rosenbrock,self.dim) +  f_bias[2]\n",
    "        return retval\n",
    "    def get_bounds(self):\n",
    "        return (self.lower,self.upper)\n",
    "    def get_name(self):\n",
    "        return \"Shifted Rosenbrock CEC08\"\n",
    "    def get_extra_info(self):\n",
    "        return \"\\tDimensions: \" + str(self.dim)"
   ]
  }
 ],
 "metadata": {
  "kernelspec": {
   "display_name": "Python 3",
   "language": "python",
   "name": "python3"
  },
  "language_info": {
   "codemirror_mode": {
    "name": "ipython",
    "version": 3
   },
   "file_extension": ".py",
   "mimetype": "text/x-python",
   "name": "python",
   "nbconvert_exporter": "python",
   "pygments_lexer": "ipython3",
   "version": "3.7.8"
  }
 },
 "nbformat": 4,
 "nbformat_minor": 2
}
